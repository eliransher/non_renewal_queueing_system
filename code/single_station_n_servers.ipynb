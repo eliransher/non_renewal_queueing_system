{
 "cells": [
  {
   "cell_type": "code",
   "execution_count": 1,
   "id": "d013797f-5100-4154-a49a-34e89e5179c8",
   "metadata": {
    "tags": []
   },
   "outputs": [],
   "source": [
    "import pickle as pkl\n",
    "import sys\n",
    "import os\n",
    "import numpy as np\n",
    "import pandas as pd\n",
    "from single_station_n_servers import *"
   ]
  },
  {
   "cell_type": "code",
   "execution_count": 2,
   "id": "de1e6c79-faf6-49b6-a679-7e69446359c2",
   "metadata": {
    "tags": []
   },
   "outputs": [
    {
     "name": "stdout",
     "output_type": "stream",
     "text": [
      "14.216134309768677\n"
     ]
    }
   ],
   "source": [
    "begin = time.time()\n",
    "\n",
    "services = get_ph()\n",
    "moms_ser = np.array(compute_first_n_moments(services[0], services[1], 10)).flatten()\n",
    "\n",
    "\n",
    "arrivals = get_ph()\n",
    "rho = np.random.uniform(0.5, 0.95)\n",
    "num_servers = 1\n",
    "rate = rho*num_servers\n",
    "\n",
    "arrivals_norm = arrivals[3]/rate\n",
    "\n",
    "A = arrivals[1]*rate\n",
    "a = arrivals[0]\n",
    "moms_arrive = np.array(compute_first_n_moments(a, A, 10)).flatten()\n",
    "\n",
    "sim_time = 300000\n",
    "mu = 1.0\n",
    "num_stations = 1\n",
    "\n",
    "\n",
    "lamda = rate\n",
    "\n",
    "n_Queue_single_station = N_Queue_single_station(lamda, mu, sim_time, num_stations, services[3], arrivals_norm, num_servers)\n",
    "n_Queue_single_station.run()\n",
    "\n",
    "input_ = np.concatenate((moms_arrive, moms_ser), axis=0)\n",
    "output = n_Queue_single_station.get_steady_single_station()\n",
    "\n",
    "end = time.time()\n",
    "\n",
    "print(end-begin)\n",
    "\n",
    "\n",
    "inp_depart_0 = np.concatenate((moms_arrive, moms_ser))\n",
    "inp_depart_0 = np.log(inp_depart_0)\n",
    "\n",
    "model_num = np.random.randint(1, 10000000)\n",
    "\n",
    "########### output ############\n",
    "\n",
    "station = 0\n",
    "\n",
    "####### Input ################\n",
    "\n",
    "inp_steady_0 = np.concatenate((moms_arrive, moms_ser))\n",
    "inp_steady_0 = np.log(inp_steady_0)\n",
    "\n",
    "###############################\n",
    "########### output ############\n",
    "\n",
    "station = 0\n",
    "\n",
    "out_steady_0 = n_Queue_single_station.get_steady_single_station()[0]\n",
    "\n",
    "path_steady_0 = '/scratch/eliransc/n_servers'\n",
    "file_name = str(rate)[:5]+ 'num_servers_' + str(num_servers) + '_sim_time_' + str(sim_time) + 'steady_' + str(model_num)+ '.pkl'\n",
    "full_path_steady_0 = os.path.join(path_steady_0, file_name)\n",
    "# pkl.dump((inp_steady_0, out_steady_0), open(full_path_steady_0, 'wb'))"
   ]
  },
  {
   "cell_type": "code",
   "execution_count": null,
   "id": "f6173ad7-66ec-4633-b89f-0b71e55529a1",
   "metadata": {},
   "outputs": [],
   "source": []
  },
  {
   "cell_type": "code",
   "execution_count": null,
   "id": "7c7da0b6-f1e2-4eaf-97b1-0f52e724c907",
   "metadata": {},
   "outputs": [],
   "source": []
  }
 ],
 "metadata": {
  "kernelspec": {
   "display_name": "queueing",
   "language": "python",
   "name": "queueing"
  },
  "language_info": {
   "codemirror_mode": {
    "name": "ipython",
    "version": 3
   },
   "file_extension": ".py",
   "mimetype": "text/x-python",
   "name": "python",
   "nbconvert_exporter": "python",
   "pygments_lexer": "ipython3",
   "version": "3.9.16"
  }
 },
 "nbformat": 4,
 "nbformat_minor": 5
}
